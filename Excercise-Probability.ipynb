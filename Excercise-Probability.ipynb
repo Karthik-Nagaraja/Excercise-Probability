{
 "cells": [
  {
   "cell_type": "code",
   "execution_count": 1,
   "metadata": {
    "collapsed": true
   },
   "outputs": [],
   "source": [
    "import pandas as pd"
   ]
  },
  {
   "cell_type": "code",
   "execution_count": 2,
   "metadata": {
    "collapsed": true
   },
   "outputs": [],
   "source": [
    "flags=pd.read_csv('flags.csv')"
   ]
  },
  {
   "cell_type": "code",
   "execution_count": 17,
   "metadata": {
    "collapsed": false
   },
   "outputs": [
    {
     "data": {
      "text/plain": [
       "name          object\n",
       "landmass       int64\n",
       "zone           int64\n",
       "area           int64\n",
       "population     int64\n",
       "language       int64\n",
       "religion       int64\n",
       "bars           int64\n",
       "stripes        int64\n",
       "colors         int64\n",
       "red            int64\n",
       "green          int64\n",
       "blue           int64\n",
       "gold           int64\n",
       "white          int64\n",
       "black          int64\n",
       "orange         int64\n",
       "mainhue       object\n",
       "circles        int64\n",
       "crosses        int64\n",
       "saltires       int64\n",
       "quarters       int64\n",
       "sunstars       int64\n",
       "crescent       int64\n",
       "triangle       int64\n",
       "icon           int64\n",
       "animate        int64\n",
       "text           int64\n",
       "topleft       object\n",
       "botright      object\n",
       "dtype: object"
      ]
     },
     "execution_count": 17,
     "metadata": {},
     "output_type": "execute_result"
    }
   ],
   "source": [
    "flags.dtypes"
   ]
  },
  {
   "cell_type": "code",
   "execution_count": 6,
   "metadata": {
    "collapsed": false
   },
   "outputs": [
    {
     "name": "stdout",
     "output_type": "stream",
     "text": [
      "          name  landmass  zone  area  population  language  religion  bars  \\\n",
      "0  Afghanistan         5     1   648          16        10         2     0   \n",
      "1      Albania         3     1    29           3         6         6     0   \n",
      "\n",
      "   stripes  colors    ...     saltires  quarters  sunstars  crescent  \\\n",
      "0        3       5    ...            0         0         1         0   \n",
      "1        0       3    ...            0         0         1         0   \n",
      "\n",
      "   triangle  icon  animate text  topleft  botright  \n",
      "0         0     1        0    0    black     green  \n",
      "1         0     0        1    0      red       red  \n",
      "\n",
      "[2 rows x 30 columns]\n",
      "('Country with most bars- ', 'St-Vincent')\n",
      "('Country with highest population- ', 'China')\n"
     ]
    }
   ],
   "source": [
    "# Print the first two rows of the data.\n",
    "print(flags[:2])\n",
    "#Get the countries which has more bars and highest population\n",
    "most_bars_country=flags[\"name\"][flags[\"bars\"].idxmax()]\n",
    "highest_population_country=flags[\"name\"][flags[\"population\"].idxmax()]\n",
    "#Alternate solution\n",
    "bars_sorted = flags.sort_values(\"bars\", ascending=[0])\n",
    "most_bars_country = bars_sorted[\"name\"].iloc[0]\n",
    "\n",
    "population_sorted = flags.sort_values(\"population\", ascending=[0])\n",
    "highest_population_country = population_sorted[\"name\"].iloc[0]\n",
    "print('Country with most bars- ',most_bars_country)\n",
    "print('Country with highest population- ',highest_population_country)"
   ]
  },
  {
   "cell_type": "markdown",
   "metadata": {},
   "source": [
    " 1)   Determine the probability of a country having a flag with the color orange in it. Assign the result to orange_probability.\n",
    " 2)   Determine the probability of a country having a flag with more than 1 stripe in it. Assign the result to stripe_probability.\n"
   ]
  },
  {
   "cell_type": "code",
   "execution_count": 15,
   "metadata": {
    "collapsed": false
   },
   "outputs": [
    {
     "name": "stdout",
     "output_type": "stream",
     "text": [
      "('orange_probability is ', 0.13402061855670103)\n",
      "('stripe_probability is ', 0.41237113402061853)\n"
     ]
    }
   ],
   "source": [
    "total_countries = flags.shape[0]\n",
    "orange_probability = float(flags[flags[\"orange\"] == 1].shape[0] )/ float(total_countries)\n",
    "\n",
    "stripe_probability = float(flags[flags[\"stripes\"] > 1].shape[0]) /float(total_countries) \n",
    "\n",
    "print('orange_probability is ',orange_probability)\n",
    "print('stripe_probability is ',stripe_probability)"
   ]
  },
  {
   "cell_type": "markdown",
   "metadata": {},
   "source": [
    "Dependent probabilities\n",
    "\n",
    "Let's say that we're picking countries from the sample, and removing them when we pick. Each time we pick a country, we reduce the sample size for the next pick. The events are dependent -- the number of countries available to pick depends on the previous pick. We can't just calculate the probability upfront and take a power in this case -- we need to recompute the probability after each selection happens"
   ]
  },
  {
   "cell_type": "markdown",
   "metadata": {},
   "source": [
    "What is the probability of getting three conscecutive red flags"
   ]
  },
  {
   "cell_type": "code",
   "execution_count": 23,
   "metadata": {
    "collapsed": false
   },
   "outputs": [
    {
     "name": "stdout",
     "output_type": "stream",
     "text": [
      "0.488485524278\n"
     ]
    }
   ],
   "source": [
    "# Remember that whether a flag has red in it or not is in the `red` column.\n",
    "total_flags=flags.shape[0]\n",
    "total_reds=flags[flags['red']==1].shape[0]\n",
    "#so 3 consecutive reds\n",
    "three_red=(float(total_reds)/float(total_flags))*(float(total_reds-1)/float(total_flags-1))*(float(total_reds-2)/float(total_flags-2))\n",
    "print(three_red)\n",
    "#Alternate solution\n",
    "total_count=flags.shape[0]\n",
    "red_count=flags[flags['red']==1].shape[0]\n",
    "one_red = (red_count / total_count) \n",
    "two_red = one_red * ((red_count - 1) / (total_count - 1))\n",
    "three_red = two_red * ((red_count - 2) / (total_count - 2))"
   ]
  },
  {
   "cell_type": "markdown",
   "metadata": {},
   "source": [
    "Disjunctive probability\n",
    "\n",
    "Conjunctive probability is when something happens and something else happens. But sometimes, we want to know the probability of some event occurring or another event occurring. Let's say we're rolling a six-sided die -- the probability of rolling a 2 is 1/6.\n",
    "\n",
    "What if we want to know the probability of rolling a 2 or the probability of rolling a three? We actually can just add the probabilities, because both events are independent. Rolling a 2 doesn't change my odds of rolling a three next time around. Thus, the probability is 1/6 + 1/6, or 1/3."
   ]
  },
  {
   "cell_type": "code",
   "execution_count": 26,
   "metadata": {
    "collapsed": false
   },
   "outputs": [
    {
     "name": "stdout",
     "output_type": "stream",
     "text": [
      "0.01\n",
      "0.0142777777778\n"
     ]
    }
   ],
   "source": [
    "start = 1\n",
    "end = 18000\n",
    "\n",
    "def count_evenly_divisible(start, end, div):\n",
    "    divisible = 0\n",
    "    for i in range(start, end+1):\n",
    "        if (i % div) == 0:\n",
    "            divisible += 1\n",
    "    return divisible\n",
    "hundred_prob = float(count_evenly_divisible(start, end, 100) )/ float(end)\n",
    "seventy_prob = float(count_evenly_divisible(start, end, 70)) / float(end)\n",
    "print(hundred_prob)\n",
    "print(seventy_prob)"
   ]
  },
  {
   "cell_type": "markdown",
   "metadata": {},
   "source": [
    "Disjunctive dependent probabilities\n",
    "\n",
    "So we've covered disjunctive probabilities in the neat case where everything is mututally exclusive, and we can just add them up.\n",
    "\n",
    "But, let's think about a slightly more complex case with dependencies. What if we have a set of 10 cars -- 5 are red and 5 are blue. 5 of the 10 are convertibles, and 5 are sport utility vehicles.\n",
    "\n",
    "If we wanted to find cars that were red or were convertibles, we might try to add the probability of the car being red to the probability of the car being a convertible. This would give us 1/2 + 1/2 == 1. But, this is wrong, as it tells us that all 10 cars are either red or convertibles.\n",
    "\n",
    "It's wrong because it assumes that the two traits (color and vehicle type) are independent, when in fact they aren't. Some of the cars are red and convertibles. If we don't account for this overlap, we end up with a vastly inflated count.\n",
    "\n",
    "Let's say that we have 3 cars that are red and convertibles. Our probability for red or convertible then comes out to (1/2 + 1/2) - 3/10. We subtract 3/10 to account for the cars we double counted when we computed (1/2 + 1/2). This gives us a .7 probability of a car being a convertible or red."
   ]
  },
  {
   "cell_type": "markdown",
   "metadata": {},
   "source": [
    "1)    Find the probability of a flag having red or orange as a color. Assign the result to red_or_orange.\n",
    "2)    Find the probability of a flag having at least one stripes or at least one bars. Assign the result to stripes_or_bars.\n"
   ]
  },
  {
   "cell_type": "code",
   "execution_count": 27,
   "metadata": {
    "collapsed": true
   },
   "outputs": [],
   "source": [
    "total_flags=flags.shape[0]\n",
    "total_red_flags=flags[flags['red']==1].shape[0]\n",
    "total_orange_flags=flags[flags['orange']==1].shape[0]\n",
    "total_red_orange_flags=flags[(flags['orange']==1) & (flags['red']==1)].shape[0]\n",
    "\n",
    "red_or_orange=(total_red_flags/total_flags)+(total_orange_flags/total_flags)-(total_red_orange_flags/total_flags)\n",
    "\n",
    "stripes = flags[flags[\"stripes\"] > 0].shape[0] / flags.shape[0]\n",
    "bars = flags[flags[\"bars\"] > 0].shape[0] / flags.shape[0]\n",
    "stripes_and_bars = flags[(flags[\"stripes\"] > 0) & (flags[\"bars\"] > 0)].shape[0] / flags.shape[0]\n",
    "\n",
    "stripes_or_bars = stripes + bars - stripes_and_bars"
   ]
  },
  {
   "cell_type": "markdown",
   "metadata": {},
   "source": [
    "read_or_orange - 0.8247422680412371\n",
    "stripes_or_bars - 0.5927835051546392"
   ]
  },
  {
   "cell_type": "markdown",
   "metadata": {},
   "source": [
    "Disjunctive probabilities with multiple conditions\n",
    "\n",
    "We've looked at disjunctive probabilities in cases where there are only two conditions (A or B). But what if we have three or more conditions?\n",
    "\n",
    "Let's say we have 10 cars again. 5 are red and 5 are blue. 5 are convertibles and 5 are sport utility vehicles. 5 have a top speed of 130mph, and 5 have a top speed of 110mph.\n",
    "\n",
    "Let's say we want to find all cars that are red or convertibles or have a top speed of 130mph. Let's say 2 cars meet all three criteria. We would end up with 1/2 + 1/2 + 1/2 - 1/5, or a 1.3 probability if we tried to apply the formula from before. This is clearly false, as we can't have a probability greater than 1.\n",
    "\n",
    "One easy way to solve for cases like this is to find everything that doesn't match our criteria first. In this case, we'd look for blue sport utility vehicles with a top speed of 110mph. We would then subtract that probability from 1 to get the probability of red or convertible or 130mph top speed. Let's say there are 2 vehicles that are blue and sport utility vehicles and have a 110mph top speed. We would get a 1 - .2 or .8 probability for red or convertible or 130mph top speed.\n"
   ]
  },
  {
   "cell_type": "markdown",
   "metadata": {},
   "source": [
    "Let's say we have a coin that we're flipping. Find the probability that at least one of the first three flips comes up heads. Assign the result to heads_or."
   ]
  },
  {
   "cell_type": "code",
   "execution_count": 35,
   "metadata": {
    "collapsed": false
   },
   "outputs": [
    {
     "name": "stdout",
     "output_type": "stream",
     "text": [
      "0.125\n",
      "0.875\n"
     ]
    }
   ],
   "source": [
    "heads_or = None\n",
    "all_three_tails = float(0.5 * 0.5 * 0.5)\n",
    "print(all_three_tails)\n",
    "heads_or = float(1.0)- float(all_three_tails)\n",
    "print(heads_or)\n"
   ]
  }
 ],
 "metadata": {
  "anaconda-cloud": {},
  "kernelspec": {
   "display_name": "Python [default]",
   "language": "python",
   "name": "python2"
  },
  "language_info": {
   "codemirror_mode": {
    "name": "ipython",
    "version": 2
   },
   "file_extension": ".py",
   "mimetype": "text/x-python",
   "name": "python",
   "nbconvert_exporter": "python",
   "pygments_lexer": "ipython2",
   "version": "2.7.12"
  }
 },
 "nbformat": 4,
 "nbformat_minor": 1
}
